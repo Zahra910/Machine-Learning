{
 "cells": [
  {
   "cell_type": "code",
   "execution_count": 400,
   "metadata": {},
   "outputs": [],
   "source": [
    "from sklearn.datasets import load_breast_cancer\n",
    "breastCancer = load_breast_cancer()"
   ]
  },
  {
   "cell_type": "code",
   "execution_count": 401,
   "metadata": {},
   "outputs": [],
   "source": [
    "#print(breastCancer.DESCR)   # Describe breast cancer dataset"
   ]
  },
  {
   "cell_type": "markdown",
   "metadata": {},
   "source": [
    "Dataset Info"
   ]
  },
  {
   "cell_type": "code",
   "execution_count": 402,
   "metadata": {},
   "outputs": [
    {
     "data": {
      "text/plain": [
       "1"
      ]
     },
     "execution_count": 402,
     "metadata": {},
     "output_type": "execute_result"
    }
   ],
   "source": [
    "breastCancer.target[500]   # target is a lable; 0 means healthy person, 1 means sick person; 500 means person number 500"
   ]
  },
  {
   "cell_type": "code",
   "execution_count": 403,
   "metadata": {},
   "outputs": [
    {
     "data": {
      "text/plain": [
       "(569,)"
      ]
     },
     "execution_count": 403,
     "metadata": {},
     "output_type": "execute_result"
    }
   ],
   "source": [
    "breastCancer.target.shape # this shows number of labels"
   ]
  },
  {
   "cell_type": "code",
   "execution_count": 404,
   "metadata": {},
   "outputs": [
    {
     "data": {
      "text/plain": [
       "array([1.504e+01, 1.674e+01, 9.873e+01, 6.894e+02, 9.883e-02, 1.364e-01,\n",
       "       7.721e-02, 6.142e-02, 1.668e-01, 6.869e-02, 3.720e-01, 8.423e-01,\n",
       "       2.304e+00, 3.484e+01, 4.123e-03, 1.819e-02, 1.996e-02, 1.004e-02,\n",
       "       1.055e-02, 3.237e-03, 1.676e+01, 2.043e+01, 1.097e+02, 8.569e+02,\n",
       "       1.135e-01, 2.176e-01, 1.856e-01, 1.018e-01, 2.177e-01, 8.549e-02])"
      ]
     },
     "execution_count": 404,
     "metadata": {},
     "output_type": "execute_result"
    }
   ],
   "source": [
    "breastCancer.data[500] # this shows features of person number 500"
   ]
  },
  {
   "cell_type": "code",
   "execution_count": 405,
   "metadata": {},
   "outputs": [
    {
     "data": {
      "text/plain": [
       "(569, 30)"
      ]
     },
     "execution_count": 405,
     "metadata": {},
     "output_type": "execute_result"
    }
   ],
   "source": [
    "breastCancer.data.shape # there are 569 people; Each person has 30 features"
   ]
  },
  {
   "cell_type": "markdown",
   "metadata": {},
   "source": [
    "## Preprocessing"
   ]
  },
  {
   "cell_type": "markdown",
   "metadata": {},
   "source": []
  },
  {
   "cell_type": "code",
   "execution_count": 406,
   "metadata": {},
   "outputs": [],
   "source": [
    "# We are going to separate train and test data\n",
    "from sklearn.model_selection import train_test_split\n",
    "x_train, x_test, y_train, y_test = train_test_split(breastCancer.data, breastCancer.target, test_size=0.21)"
   ]
  },
  {
   "cell_type": "code",
   "execution_count": 407,
   "metadata": {},
   "outputs": [
    {
     "name": "stdout",
     "output_type": "stream",
     "text": [
      "Feature => train: (449, 30) - test: (120, 30)\n",
      "Label => train: (449,) - test: (120,)\n"
     ]
    }
   ],
   "source": [
    "print(f\"Feature => train: {x_train.shape} - test: {x_test.shape}\")\n",
    "print(f\"Label => train: {y_train.shape} - test: {y_test.shape}\")"
   ]
  },
  {
   "cell_type": "code",
   "execution_count": 408,
   "metadata": {},
   "outputs": [
    {
     "data": {
      "text/plain": [
       "array([1.481e+01, 1.470e+01, 9.466e+01, 6.807e+02, 8.472e-02, 5.016e-02,\n",
       "       3.416e-02, 2.541e-02, 1.659e-01, 5.348e-02, 2.182e-01, 6.232e-01,\n",
       "       1.677e+00, 2.072e+01, 6.708e-03, 1.197e-02, 1.482e-02, 1.056e-02,\n",
       "       1.580e-02, 1.779e-03, 1.561e+01, 1.758e+01, 1.017e+02, 7.602e+02,\n",
       "       1.139e-01, 1.011e-01, 1.101e-01, 7.955e-02, 2.334e-01, 6.142e-02])"
      ]
     },
     "execution_count": 408,
     "metadata": {},
     "output_type": "execute_result"
    }
   ],
   "source": [
    "x_train[0]"
   ]
  },
  {
   "cell_type": "markdown",
   "metadata": {},
   "source": [
    "### Normalizing the data"
   ]
  },
  {
   "cell_type": "code",
   "execution_count": 409,
   "metadata": {},
   "outputs": [],
   "source": [
    "from sklearn.preprocessing import MinMaxScaler\n",
    "scaler = MinMaxScaler(feature_range=(0,1))\n",
    "x_train = scaler.fit_transform(x_train)\n",
    "x_test = scaler.transform(x_test)"
   ]
  },
  {
   "cell_type": "code",
   "execution_count": 410,
   "metadata": {},
   "outputs": [
    {
     "data": {
      "text/plain": [
       "array([0.34743143, 0.16875211, 0.33247973, 0.21613125, 0.28969938,\n",
       "       0.09441139, 0.08003749, 0.12629225, 0.26268019, 0.07413648,\n",
       "       0.03863842, 0.08001704, 0.0433492 , 0.02599561, 0.14197379,\n",
       "       0.07298645, 0.03742424, 0.20003789, 0.11141442, 0.03054738,\n",
       "       0.24579149, 0.14818763, 0.23156001, 0.12957473, 0.23806052,\n",
       "       0.07390602, 0.0879393 , 0.2733677 , 0.15158683, 0.05408613])"
      ]
     },
     "execution_count": 410,
     "metadata": {},
     "output_type": "execute_result"
    }
   ],
   "source": [
    "x_train[0]"
   ]
  },
  {
   "cell_type": "markdown",
   "metadata": {},
   "source": [
    "### Classification"
   ]
  },
  {
   "cell_type": "code",
   "execution_count": 411,
   "metadata": {},
   "outputs": [],
   "source": [
    "from sklearn.metrics import accuracy_score, precision_score, recall_score\n",
    "def calculate_metrics(y_train, y_test, y_predic_train, y_predic_test):\n",
    "    acc_train = accuracy_score(y_true=y_train, y_pred=y_predic_train)\n",
    "    acc_test = accuracy_score(y_true=y_test, y_pred=y_predic_test)\n",
    "\n",
    "    percision = precision_score(y_true=y_test, y_pred=y_predic_test)\n",
    "    recall = recall_score(y_true=y_test, y_pred=y_predic_test)\n",
    "\n",
    "    print(f\"acc train: {acc_train} - acc test: {acc_test} - percision: {percision} - recall: {recall}\")\n",
    "\n",
    "    return acc_train, acc_test, percision, recall"
   ]
  },
  {
   "cell_type": "markdown",
   "metadata": {},
   "source": [
    "### Creating a function for calculating the accuracy"
   ]
  },
  {
   "cell_type": "markdown",
   "metadata": {},
   "source": [
    "- Naive Bayes Algorithm"
   ]
  },
  {
   "cell_type": "markdown",
   "metadata": {},
   "source": []
  },
  {
   "cell_type": "code",
   "execution_count": 412,
   "metadata": {},
   "outputs": [
    {
     "data": {
      "text/plain": [
       "GaussianNB()"
      ]
     },
     "execution_count": 412,
     "metadata": {},
     "output_type": "execute_result"
    }
   ],
   "source": [
    "from sklearn.naive_bayes import  GaussianNB\n",
    "GaussianNaiveBayes = GaussianNB()\n",
    "GaussianNaiveBayes.fit(x_train, y_train)"
   ]
  },
  {
   "cell_type": "code",
   "execution_count": 413,
   "metadata": {},
   "outputs": [
    {
     "name": "stdout",
     "output_type": "stream",
     "text": [
      "acc train: 0.9398663697104677 - acc test: 0.9416666666666667 - percision: 0.9473684210526315 - recall: 0.96\n"
     ]
    }
   ],
   "source": [
    "y_predic_train = GaussianNaiveBayes.predict(x_train)\n",
    "y_predic_test = GaussianNaiveBayes.predict(x_test)\n",
    "\n",
    "acc_train_gnb, acc_test_gnb, percision_gnb, recall_gnb = calculate_metrics(y_train, y_test, y_predic_train, y_predic_test)"
   ]
  },
  {
   "cell_type": "markdown",
   "metadata": {},
   "source": [
    "- KNN algorithm"
   ]
  },
  {
   "cell_type": "markdown",
   "metadata": {},
   "source": []
  },
  {
   "cell_type": "code",
   "execution_count": 414,
   "metadata": {},
   "outputs": [
    {
     "data": {
      "text/plain": [
       "KNeighborsClassifier(algorithm='kd_tree', leaf_size=28, n_neighbors=8)"
      ]
     },
     "execution_count": 414,
     "metadata": {},
     "output_type": "execute_result"
    }
   ],
   "source": [
    "from sklearn.neighbors import KNeighborsClassifier\n",
    "\n",
    "knn = KNeighborsClassifier(n_neighbors=8, algorithm='kd_tree', leaf_size=28)\n",
    "knn.fit(x_train, y_train)"
   ]
  },
  {
   "cell_type": "code",
   "execution_count": 415,
   "metadata": {},
   "outputs": [
    {
     "name": "stdout",
     "output_type": "stream",
     "text": [
      "acc train: 0.9732739420935412 - acc test: 0.975 - percision: 0.9864864864864865 - recall: 0.9733333333333334\n"
     ]
    }
   ],
   "source": [
    "y_predic_train = knn.predict(x_train)\n",
    "y_predic_test = knn.predict(x_test)\n",
    "\n",
    "acc_train_knn, acc_test_knn, percision_knn, recall_knn = calculate_metrics(y_train, y_test, y_predic_train, y_predic_test)"
   ]
  },
  {
   "cell_type": "markdown",
   "metadata": {},
   "source": [
    "- Decision tree algorithm"
   ]
  },
  {
   "cell_type": "markdown",
   "metadata": {},
   "source": []
  },
  {
   "cell_type": "code",
   "execution_count": 416,
   "metadata": {},
   "outputs": [
    {
     "data": {
      "text/plain": [
       "DecisionTreeClassifier(criterion='entropy', max_depth=128, min_samples_split=4)"
      ]
     },
     "execution_count": 416,
     "metadata": {},
     "output_type": "execute_result"
    }
   ],
   "source": [
    "from sklearn.tree import DecisionTreeClassifier\n",
    "\n",
    "DecisionTree = DecisionTreeClassifier(max_depth=128, min_samples_split=4, criterion='entropy')\n",
    "DecisionTree.fit(x_train, y_train)"
   ]
  },
  {
   "cell_type": "code",
   "execution_count": 417,
   "metadata": {},
   "outputs": [
    {
     "name": "stdout",
     "output_type": "stream",
     "text": [
      "acc train: 1.0 - acc test: 0.9666666666666667 - percision: 0.9863013698630136 - recall: 0.96\n"
     ]
    }
   ],
   "source": [
    "y_predic_train = DecisionTree.predict(x_train)\n",
    "y_predic_test = DecisionTree.predict(x_test)\n",
    "\n",
    "acc_train_dt, acc_test_dt, percision_dt, recall_dt = calculate_metrics(y_train, y_test, y_predic_train, y_predic_test)"
   ]
  },
  {
   "cell_type": "markdown",
   "metadata": {},
   "source": [
    "- Random forest algorithm"
   ]
  },
  {
   "cell_type": "code",
   "execution_count": 418,
   "metadata": {},
   "outputs": [
    {
     "data": {
      "text/plain": [
       "RandomForestClassifier(max_depth=64, min_samples_split=8, n_estimators=1000)"
      ]
     },
     "execution_count": 418,
     "metadata": {},
     "output_type": "execute_result"
    }
   ],
   "source": [
    "from sklearn.ensemble import RandomForestClassifier\n",
    "RandomForest = RandomForestClassifier(n_estimators=1000, max_depth=64, min_samples_split=8)\n",
    "RandomForest.fit(x_train, y_train)"
   ]
  },
  {
   "cell_type": "code",
   "execution_count": 419,
   "metadata": {},
   "outputs": [
    {
     "name": "stdout",
     "output_type": "stream",
     "text": [
      "acc train: 0.9933184855233853 - acc test: 0.9583333333333334 - percision: 0.9605263157894737 - recall: 0.9733333333333334\n"
     ]
    }
   ],
   "source": [
    "y_predic_train = RandomForest.predict(x_train)\n",
    "y_predic_test = RandomForest.predict(x_test)\n",
    "\n",
    "acc_train_rf, acc_test_rf, percision_rf, recall_rf = calculate_metrics(y_train, y_test, y_predic_train, y_predic_test)"
   ]
  },
  {
   "cell_type": "markdown",
   "metadata": {},
   "source": [
    "- SVM algorithm"
   ]
  },
  {
   "cell_type": "code",
   "execution_count": 420,
   "metadata": {},
   "outputs": [
    {
     "data": {
      "text/plain": [
       "SVC(kernel='poly')"
      ]
     },
     "execution_count": 420,
     "metadata": {},
     "output_type": "execute_result"
    }
   ],
   "source": [
    "from sklearn.svm import SVC\n",
    "svm = SVC(kernel='poly')\n",
    "svm.fit(x_train, y_train)"
   ]
  },
  {
   "cell_type": "code",
   "execution_count": 421,
   "metadata": {},
   "outputs": [
    {
     "name": "stdout",
     "output_type": "stream",
     "text": [
      "acc train: 0.9888641425389755 - acc test: 0.9833333333333333 - percision: 0.974025974025974 - recall: 1.0\n"
     ]
    }
   ],
   "source": [
    "y_predic_train = svm.predict(x_train)\n",
    "y_predic_test = svm.predict(x_test)\n",
    "\n",
    "acc_train_svm, acc_test_svm, percision_svm, recall_svm = calculate_metrics(y_train, y_test, y_predic_train, y_predic_test)"
   ]
  },
  {
   "cell_type": "markdown",
   "metadata": {},
   "source": [
    "- Logistic regresion algorithm"
   ]
  },
  {
   "cell_type": "code",
   "execution_count": 422,
   "metadata": {},
   "outputs": [
    {
     "data": {
      "text/plain": [
       "LogisticRegression()"
      ]
     },
     "execution_count": 422,
     "metadata": {},
     "output_type": "execute_result"
    }
   ],
   "source": [
    "from sklearn.linear_model import LogisticRegression\n",
    "LogisticRegression = LogisticRegression()\n",
    "LogisticRegression.fit(x_train, y_train)"
   ]
  },
  {
   "cell_type": "code",
   "execution_count": 423,
   "metadata": {},
   "outputs": [
    {
     "name": "stdout",
     "output_type": "stream",
     "text": [
      "acc train: 0.9665924276169265 - acc test: 0.9916666666666667 - percision: 0.9868421052631579 - recall: 1.0\n"
     ]
    }
   ],
   "source": [
    "y_predic_train = LogisticRegression.predict(x_train)\n",
    "y_predic_test = LogisticRegression.predict(x_test)\n",
    "\n",
    "acc_train_lr, acc_test_lr, percision_lr, recall_lr = calculate_metrics(y_train, y_test, y_predic_train, y_predic_test)"
   ]
  },
  {
   "cell_type": "markdown",
   "metadata": {},
   "source": [
    "- ANN: Aritificial Nural Network"
   ]
  },
  {
   "cell_type": "code",
   "execution_count": 426,
   "metadata": {},
   "outputs": [
    {
     "data": {
      "text/plain": [
       "MLPClassifier(batch_size=64, hidden_layer_sizes=512)"
      ]
     },
     "execution_count": 426,
     "metadata": {},
     "output_type": "execute_result"
    }
   ],
   "source": [
    "from sklearn.neural_network import MLPClassifier\n",
    "MLPClassifier = MLPClassifier(hidden_layer_sizes=512, activation='relu', solver='adam', batch_size=64)\n",
    "MLPClassifier.fit(x_train, y_train)"
   ]
  },
  {
   "cell_type": "code",
   "execution_count": 427,
   "metadata": {},
   "outputs": [
    {
     "name": "stdout",
     "output_type": "stream",
     "text": [
      "acc train: 0.9643652561247216 - acc test: 0.9833333333333333 - percision: 0.9866666666666667 - recall: 0.9866666666666667\n"
     ]
    }
   ],
   "source": [
    "y_predic_train = MLPClassifier.predict(x_train)\n",
    "y_predic_test = MLPClassifier.predict(x_test)\n",
    "\n",
    "acc_train_mlp, acc_test_mlp, percision_mlp, recall_mlp = calculate_metrics(y_train, y_test, y_predic_train, y_predic_test)"
   ]
  },
  {
   "cell_type": "markdown",
   "metadata": {},
   "source": [
    "### Comparision"
   ]
  },
  {
   "cell_type": "markdown",
   "metadata": {},
   "source": [
    "- Comparing accuracy for train data"
   ]
  },
  {
   "cell_type": "code",
   "execution_count": 433,
   "metadata": {},
   "outputs": [
    {
     "data": {
      "image/png": "[encoded data removed]",
      "text/plain": [
       "<matplotlib.figure.Figure at 0x7f5961f3dbe0>"
      ]
     },
     "metadata": {},
     "output_type": "display_data"
    }
   ],
   "source": [
    "import matplotlib.pylab as plt\n",
    "\n",
    "acc = [acc_train_dt, acc_train_gnb, acc_train_knn, acc_train_mlp, acc_train_rf, acc_test_lr, acc_train_svm]\n",
    "title = [\"DecisionTree\", \"GaussianNB\", \"KNeighborsClassifier\", \"MLPClassifier\", \"RandomForest\", \"LogisticRegression\", \"SVM\"]\n",
    "\n",
    "plt.bar(title, acc, color='skyblue') \n",
    "plt.grid()\n",
    "\n",
    "plt.xlabel(\"Classifier\", color='white')\n",
    "plt.ylabel(\"Accuracy\", color='white')\n",
    "plt.title(\"Accuracy Comparison for train data\", color='white')\n",
    "\n",
    "plt.xticks(color='white', rotation=45)\n",
    "plt.yticks(color='white')\n",
    "\n",
    "ax = plt.gca()\n",
    "ax.spines['bottom'].set_color('white')\n",
    "ax.spines['top'].set_color('white')\n",
    "ax.spines['right'].set_color('white')\n",
    "ax.spines['left'].set_color('white')\n",
    "\n",
    "plt.show()\n"
   ]
  },
  {
   "cell_type": "markdown",
   "metadata": {},
   "source": [
    "- Comparing accuracy for test data"
   ]
  },
  {
   "cell_type": "code",
   "execution_count": 434,
   "metadata": {},
   "outputs": [
    {
     "data": {
      "image/png": "[encoded data removed]",
      "text/plain": [
       "<matplotlib.figure.Figure at 0x7f5961f4ca20>"
      ]
     },
     "metadata": {},
     "output_type": "display_data"
    }
   ],
   "source": [
    "import matplotlib.pylab as plt\n",
    "\n",
    "acc = [acc_test_dt, acc_test_gnb, acc_test_knn, acc_test_mlp, acc_test_rf, acc_test_lr, acc_test_svm]\n",
    "title = [\"DecisionTree\", \"GaussianNB\", \"KNeighborsClassifier\", \"MLPClassifier\", \"RandomForest\", \"LogisticRegression\", \"SVM\"]\n",
    "\n",
    "plt.bar(title, acc, color='skyblue') \n",
    "plt.grid()\n",
    "\n",
    "plt.xlabel(\"Classifier\", color='white')\n",
    "plt.ylabel(\"Accuracy\", color='white')\n",
    "plt.title(\"Accuracy Comparison for test data\", color='white')\n",
    "\n",
    "plt.xticks(color='white', rotation=45)\n",
    "plt.yticks(color='white')\n",
    "\n",
    "ax = plt.gca()\n",
    "ax.spines['bottom'].set_color('white')\n",
    "ax.spines['top'].set_color('white')\n",
    "ax.spines['right'].set_color('white')\n",
    "ax.spines['left'].set_color('white')\n",
    "\n",
    "plt.show()"
   ]
  }
 ],
 "metadata": {
  "kernelspec": {
   "display_name": "Python 3",
   "language": "python",
   "name": "python3"
  },
  "language_info": {
   "codemirror_mode": {
    "name": "ipython",
    "version": 3
   },
   "file_extension": ".py",
   "mimetype": "text/x-python",
   "name": "python",
   "nbconvert_exporter": "python",
   "pygments_lexer": "ipython3",
   "version": "3.6.9"
  }
 },
 "nbformat": 4,
 "nbformat_minor": 2
}
